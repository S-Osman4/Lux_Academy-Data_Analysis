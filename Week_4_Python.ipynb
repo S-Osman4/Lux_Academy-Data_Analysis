{
  "nbformat": 4,
  "nbformat_minor": 0,
  "metadata": {
    "colab": {
      "provenance": [],
      "authorship_tag": "ABX9TyO8XG7IdnnUTntrhMYODQkb"
    },
    "kernelspec": {
      "name": "python3",
      "display_name": "Python 3"
    },
    "language_info": {
      "name": "python"
    }
  },
  "cells": [
    {
      "cell_type": "markdown",
      "source": [
        "# Week 4 : Lux Tech Academy\n"
      ],
      "metadata": {
        "id": "lFCJp8T3zScH"
      }
    },
    {
      "cell_type": "markdown",
      "source": [
        "## Write a Python program to check whether a string is a palindrome or not using a stack."
      ],
      "metadata": {
        "id": "iHnlde6tzX28"
      }
    },
    {
      "cell_type": "markdown",
      "source": [
        "A **palindrome** is a word, phrase, number, or any other sequence of characters that reads the same forward and backward (ignoring spaces, punctuation, and capitalization). To check if a string is a palindrome using a stack, we can take advantage of the stack's Last-In-First-Out (LIFO) property.\n",
        "\n",
        "Steps:\n",
        "\n",
        "1. Convert the string to lowercase and remove any non-alphanumeric characters.\n",
        "2. Push the first half of the string onto a stack.\n",
        "3. Pop characters from the stack and compare them to the second half of the string.\n",
        "4. If all characters match, the string is a palindrome; otherwise, it is not."
      ],
      "metadata": {
        "id": "m-176Qfh7NqT"
      }
    },
    {
      "cell_type": "code",
      "execution_count": null,
      "metadata": {
        "colab": {
          "base_uri": "https://localhost:8080/"
        },
        "id": "sFLzVN-JzRGZ",
        "outputId": "a1440bc6-41f6-4bd8-82a5-a9a1fc84a088"
      },
      "outputs": [
        {
          "output_type": "stream",
          "name": "stdout",
          "text": [
            "False\n",
            "True\n"
          ]
        }
      ],
      "source": [
        "def is_palindrome(string):\n",
        "  \"\"\"\n",
        "  Checks if a string is a palindrome using a stack.\n",
        "\n",
        "  Args:\n",
        "    string: The string to check.\n",
        "\n",
        "  Returns:\n",
        "    True if the string is a palindrome, False otherwise.\n",
        "  \"\"\"\n",
        "  # Convert the string to lowercase and remove non-alphanumeric characters\n",
        "  string = ''.join(ch for ch in string.lower() if ch.isalnum())\n",
        "\n",
        "  # Push the first half of the string onto a stack\n",
        "  stack = []\n",
        "  mid = len(string) // 2\n",
        "  for i in range(mid):\n",
        "    stack.append(string[i])\n",
        "\n",
        "  # Pop characters from the stack and compare them to the second half of the string\n",
        "  j = mid if len(string) % 2 == 0 else mid + 1\n",
        "  while j < len(string):\n",
        "    if string[j] != stack.pop():\n",
        "      return False\n",
        "    j += 1\n",
        "\n",
        "  return True\n",
        "\n",
        "# Test the function\n",
        "print(is_palindrome(\"Hello, world!\"))  # False\n",
        "print(is_palindrome(\" Don’t nod\"))  # True\n",
        "\n",
        "\n"
      ]
    },
    {
      "cell_type": "markdown",
      "source": [
        "## Explain the concept of list comprehension in Python with at least three examples\n"
      ],
      "metadata": {
        "id": "E_R13yn6zbzz"
      }
    },
    {
      "cell_type": "markdown",
      "source": [
        "List comprehension is a concise way to create lists in Python. It's a powerful feature that allows you to create new lists based on existing lists or other iterable objects. The result will be a new list resulting from evaluating the expression in the context of the for and if clauses which follow it\n",
        "\n",
        "\n",
        "\n",
        "```\n",
        "new_list = [expression for item in iterable if condition]\n",
        "```\n",
        "\n"
      ],
      "metadata": {
        "id": "5WSiUCjbAHPD"
      }
    },
    {
      "cell_type": "code",
      "source": [
        "# Example 1: Create a list of squares\n",
        "squares = [x**2 for x in range(10)]\n",
        "print(squares)  # [0, 1, 4, 9, 16, 25, 36, 49, 64, 81]\n",
        "\n",
        "# Example 2: Create a list of even numbers\n",
        "evens = [x for x in range(20) if x % 2 == 0]\n",
        "print(evens)  # [0, 2, 4, 6, 8, 10, 12, 14, 16, 18]\n",
        "\n",
        "# Example 3: Convert temperatures from Celsius to Fahrenheit\n",
        "celsius = [0, 10, 20, 30, 40]\n",
        "fahrenheit = [(9/5)*temp + 32 for temp in celsius]\n",
        "print(fahrenheit)  # [32.0, 50.0, 68.0, 86.0, 104.0]"
      ],
      "metadata": {
        "colab": {
          "base_uri": "https://localhost:8080/"
        },
        "id": "f8C4rhQZAXSI",
        "outputId": "6078774a-fede-40b9-ec9d-cdf7838f744a"
      },
      "execution_count": null,
      "outputs": [
        {
          "output_type": "stream",
          "name": "stdout",
          "text": [
            "[0, 1, 4, 9, 16, 25, 36, 49, 64, 81]\n",
            "[0, 2, 4, 6, 8, 10, 12, 14, 16, 18]\n",
            "[32.0, 50.0, 68.0, 86.0, 104.0]\n"
          ]
        }
      ]
    },
    {
      "cell_type": "markdown",
      "source": [
        "## Explain what a compound datatype is in Python with three examples"
      ],
      "metadata": {
        "id": "k0BNiHswzfOl"
      }
    },
    {
      "cell_type": "markdown",
      "source": [
        "Compound datatypes in Python are datatypes that can hold multiple values. They are used to group related data together. The main compound datatypes in Python are:\n",
        "\n",
        "1. `Lists`: Ordered, mutable sequences of elements.\n",
        "\n",
        "  `tech_stack = ['html', 'css', 'javascript']`\n",
        "\n",
        "2. `Tuples`: Ordered, immutable sequences of elements.\n",
        "\n",
        "  `my_tuple = (\"Nice\", 2, \"meet you!\")`\n",
        "3. `Dictionaries`: Unordered collections of key-value pairs.\n",
        "\n",
        "  `person = {'name': 'Shamso', 'hobbies': ['reading', 'coding']}`\n",
        "\n",
        "4. `Sets`: Unordered collections of unique elements.\n",
        "\n",
        "  `unique_numbers = {1, 2, 3, 4, 5}`"
      ],
      "metadata": {
        "id": "W93a0Xt6AcP_"
      }
    },
    {
      "cell_type": "code",
      "source": [
        "# create lists\n",
        "tech_stack = ['html', 'css', 'javascript']\n",
        "print(tech_stack)\n",
        "# create tuples\n",
        "my_tuple = (\"Nice\", 2, \"meet you!\")\n",
        "print(my_tuple)\n",
        "\n",
        "# create dictionaries\n",
        "me = {'name': 'Shamso', 'hobbies': ['reading', 'coding']}\n",
        "print(me)\n",
        "# create sets\n",
        "unique_numbers = {1, 2, 3, 4, 5}\n",
        "print(unique_numbers)"
      ],
      "metadata": {
        "colab": {
          "base_uri": "https://localhost:8080/"
        },
        "id": "Yb4pwvz4Cpij",
        "outputId": "044676fd-adb6-4453-d98f-c01c3f286cf7"
      },
      "execution_count": null,
      "outputs": [
        {
          "output_type": "stream",
          "name": "stdout",
          "text": [
            "['html', 'css', 'javascript']\n",
            "('Nice', 2, 'meet you!')\n",
            "{'name': 'Shamso', 'hobbies': ['reading', 'coding']}\n",
            "{1, 2, 3, 4, 5}\n"
          ]
        }
      ]
    },
    {
      "cell_type": "markdown",
      "source": [
        "## Write a function that takes a string and returns a list of bigrams"
      ],
      "metadata": {
        "id": "94eAcWfszvNn"
      }
    },
    {
      "cell_type": "markdown",
      "source": [
        "A bigram is a sequence of two adjacent elements from a string or a list. To generate bigrams from a string, you take two consecutive characters and treat them as a pair.\n",
        "\n",
        "Steps:\n",
        "\n",
        "1. Loop through the string, pairing each character with the next one.\n",
        "2. Collect all pairs into a list and return it."
      ],
      "metadata": {
        "id": "QD3bsnOsENCd"
      }
    },
    {
      "cell_type": "code",
      "source": [
        "def get_bigrams(text):\n",
        "  \"\"\"\n",
        "  Returns a list of bigrams from a given string.\n",
        "\n",
        "  Args:\n",
        "    text: The input string.\n",
        "\n",
        "  Returns:\n",
        "    A list of bigrams.\n",
        "  \"\"\"\n",
        "  bigrams = []\n",
        "  for i in range(len(text) - 1):\n",
        "    bigrams.append(text[i:i + 2])\n",
        "  return bigrams\n",
        "\n",
        "# Test the function\n",
        "text = \"Shamso Osman\"\n",
        "result = get_bigrams(text)\n",
        "print(result)  # ['Sh', 'ha', 'am', 'so', 'os', 'os', 'ma', 'an']\n"
      ],
      "metadata": {
        "colab": {
          "base_uri": "https://localhost:8080/"
        },
        "id": "Yab64CpeETIe",
        "outputId": "4087f6a7-d37d-49b0-d75f-ea892d96a70d"
      },
      "execution_count": null,
      "outputs": [
        {
          "output_type": "stream",
          "name": "stdout",
          "text": [
            "['Sh', 'ha', 'am', 'ms', 'so', 'o ', ' O', 'Os', 'sm', 'ma', 'an']\n",
            "['Th', 'he', 'e ', ' q', 'qu', 'ui', 'ic', 'ck', 'k ', ' b', 'br', 'ro', 'ow', 'wn', 'n ', ' f', 'fo', 'ox', 'x ', ' j', 'ju', 'um', 'mp', 'ps', 's ', ' o', 'ov', 've', 'er', 'r ', ' t', 'th', 'he', 'e ', ' l', 'la', 'az', 'zy', 'y ', ' d', 'do', 'og']\n"
          ]
        }
      ]
    },
    {
      "cell_type": "code",
      "source": [
        "# What if the string is a sentence, let's refactor the function to handle words instead of letters\n",
        "\n",
        "def get_bigrams(text):\n",
        "  \"\"\"\n",
        "  Returns a list of bigrams from a given string.\n",
        "\n",
        "  Args:\n",
        "    text: The input string.\n",
        "\n",
        "  Returns:\n",
        "    A list of bigrams.\n",
        "    \"\"\"\n",
        "  bigrams = []\n",
        "  # Split the text into words\n",
        "  words = text.split()\n",
        "  # Create bigrams using list comprehension\n",
        "  for i in range(len(words) - 1):\n",
        "    bigrams.append(words[i] + ' ' + words[i + 1])\n",
        "  return bigrams\n",
        "\n",
        "# Test the function\n",
        "text = \"Hello there!, My name is Shamso Osman\"\n",
        "result = get_bigrams(text)\n",
        "print(result)  # ['Shamso Osman']"
      ],
      "metadata": {
        "colab": {
          "base_uri": "https://localhost:8080/"
        },
        "id": "EB-kgA96GEZM",
        "outputId": "6e8d99c4-f0f5-47d1-8a4d-d03ca9410872"
      },
      "execution_count": null,
      "outputs": [
        {
          "output_type": "stream",
          "name": "stdout",
          "text": [
            "['Hello there!,', 'there!, My', 'My name', 'name is', 'is Shamso', 'Shamso Osman']\n"
          ]
        }
      ]
    },
    {
      "cell_type": "markdown",
      "source": [],
      "metadata": {
        "id": "VDEjFeQqGDrD"
      }
    },
    {
      "cell_type": "markdown",
      "source": [
        "##  Given a dictionary with keys as letters and values as lists of letters, write a function closest_key to find the key with the input value closest to the beginning of the list\n"
      ],
      "metadata": {
        "id": "Z8O6THi6zxeb"
      }
    },
    {
      "cell_type": "markdown",
      "source": [
        "Steps:\n",
        "\n",
        "1. Initialize variables to keep track of the minimum index and the closest key.\n",
        "2. Iterate through the dictionary items.\n",
        "3. If the value is in the list, we check its index.\n",
        "4. If this index is smaller than our current minimum, we update our closest key.\n",
        "5. After checking all keys, we return the closest key found."
      ],
      "metadata": {
        "id": "vgFMQAiJElca"
      }
    },
    {
      "cell_type": "code",
      "source": [
        "def closest_key(dictionary, value):\n",
        "  \"\"\"\n",
        "  Finds the key with the input value closest to the beginning of the list.\n",
        "\n",
        "  Args:\n",
        "    dictionary: The dictionary to search in.\n",
        "    value: The value to find the closest key for.\n",
        "\n",
        "  Returns:\n",
        "    The key with the input value closest to the beginning of the list.\n",
        "  \"\"\"\n",
        "  minimum_index = float('inf')\n",
        "  closest_key = None\n",
        "  for key, lst in dictionary.items():\n",
        "    if value in lst:\n",
        "      index = lst.index(value)\n",
        "      if index < minimum_index:\n",
        "        minimum_index = index\n",
        "        closest_key = key\n",
        "  return closest_key\n",
        "\n",
        "# Test the function\n",
        "dictionary = {'a': [1, 2, 3], 'b': [4, 5, 6], 'c': [7, 8, 9]}\n",
        "print(closest_key(dictionary, 5))"
      ],
      "metadata": {
        "colab": {
          "base_uri": "https://localhost:8080/"
        },
        "id": "fPKLZxu6z1qv",
        "outputId": "eed36e2c-deb0-4197-8c70-91e50eeb9362"
      },
      "execution_count": null,
      "outputs": [
        {
          "output_type": "stream",
          "name": "stdout",
          "text": [
            "b\n"
          ]
        }
      ]
    },
    {
      "cell_type": "markdown",
      "source": [
        "# References\n",
        "\n",
        "1. https://docs.python.org/3/tutorial/datastructures"
      ],
      "metadata": {
        "id": "xcblypzmDlq-"
      }
    }
  ]
}